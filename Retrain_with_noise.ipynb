{
  "cells": [
    {
      "cell_type": "code",
      "execution_count": 1,
      "metadata": {
        "vscode": {
          "languageId": "plaintext"
        },
        "id": "kEsyLO1zXhzv"
      },
      "outputs": [],
      "source": [
        "import torch\n",
        "import torch.nn as nn\n",
        "import torch.optim as optim\n",
        "import torchvision\n",
        "import torchvision.transforms as transforms\n",
        "from torch.utils.data import DataLoader\n",
        "import torchvision.datasets as datasets"
      ]
    },
    {
      "cell_type": "code",
      "source": [
        "# Define the noise function\n",
        "def add_noise(img, noise_factor=0.5):\n",
        "    noise = torch.randn(img.size()) * noise_factor\n",
        "    noisy_img = img + noise\n",
        "    noisy_img = torch.clamp(noisy_img, 0., 1.)\n",
        "    return noisy_img\n",
        "\n",
        "# Define a custom dataset class to apply noise\n",
        "class NoisyFashionMNIST(datasets.FashionMNIST):\n",
        "    def __getitem__(self, index):\n",
        "        img, target = super().__getitem__(index)\n",
        "        img = add_noise(img)\n",
        "        return img, target"
      ],
      "metadata": {
        "id": "hU0x6gaFZdwo"
      },
      "execution_count": 2,
      "outputs": []
    },
    {
      "cell_type": "code",
      "source": [
        "# Hyperparameters\n",
        "num_epochs = 10\n",
        "learning_rate = 0.001\n",
        "batch_size = 100\n",
        "num_classes = 10\n",
        "\n",
        "# Load the noisy dataset\n",
        "device = torch.device('cuda' if torch.cuda.is_available() else 'cpu')\n",
        "transform = transforms.Compose([\n",
        "    transforms.Resize(224),\n",
        "    transforms.ToTensor(),\n",
        "    transforms.Normalize(mean=(0.5,), std=(0.5,))\n",
        "])\n",
        "print(device)\n",
        "model_save_path = \"resnet18_fmnist.pth\"  # Path to save model weights"
      ],
      "metadata": {
        "colab": {
          "base_uri": "https://localhost:8080/"
        },
        "id": "qlTrkoisZe8-",
        "outputId": "1461766e-e885-494a-acb6-01f60b36264f"
      },
      "execution_count": 3,
      "outputs": [
        {
          "output_type": "stream",
          "name": "stdout",
          "text": [
            "cuda\n"
          ]
        }
      ]
    },
    {
      "cell_type": "code",
      "source": [
        "# Define the target model\n",
        "train_dataset_noisy = NoisyFashionMNIST(root='./data', train=True, transform=transform, download=True)\n",
        "test_dataset_noisy = NoisyFashionMNIST(root='./data', train=False, transform=transform)\n",
        "\n",
        "train_loader_noisy = DataLoader(dataset=train_dataset_noisy, batch_size=batch_size, shuffle=True)\n",
        "test_loader_noisy = test_loader = DataLoader(dataset=test_dataset_noisy, batch_size=batch_size, shuffle=False)"
      ],
      "metadata": {
        "colab": {
          "base_uri": "https://localhost:8080/"
        },
        "id": "X_QhjmyJZht7",
        "outputId": "2b350176-3db0-40d9-e75e-2e3270c1cf05"
      },
      "execution_count": 6,
      "outputs": [
        {
          "output_type": "stream",
          "name": "stdout",
          "text": [
            "Downloading http://fashion-mnist.s3-website.eu-central-1.amazonaws.com/train-images-idx3-ubyte.gz\n",
            "Using downloaded and verified file: ./data/NoisyFashionMNIST/raw/train-images-idx3-ubyte.gz\n",
            "Extracting ./data/NoisyFashionMNIST/raw/train-images-idx3-ubyte.gz to ./data/NoisyFashionMNIST/raw\n",
            "\n",
            "Downloading http://fashion-mnist.s3-website.eu-central-1.amazonaws.com/train-labels-idx1-ubyte.gz\n",
            "Using downloaded and verified file: ./data/NoisyFashionMNIST/raw/train-labels-idx1-ubyte.gz\n",
            "Extracting ./data/NoisyFashionMNIST/raw/train-labels-idx1-ubyte.gz to ./data/NoisyFashionMNIST/raw\n",
            "\n",
            "Downloading http://fashion-mnist.s3-website.eu-central-1.amazonaws.com/t10k-images-idx3-ubyte.gz\n",
            "Using downloaded and verified file: ./data/NoisyFashionMNIST/raw/t10k-images-idx3-ubyte.gz\n",
            "Extracting ./data/NoisyFashionMNIST/raw/t10k-images-idx3-ubyte.gz to ./data/NoisyFashionMNIST/raw\n",
            "\n",
            "Downloading http://fashion-mnist.s3-website.eu-central-1.amazonaws.com/t10k-labels-idx1-ubyte.gz\n",
            "Downloading http://fashion-mnist.s3-website.eu-central-1.amazonaws.com/t10k-labels-idx1-ubyte.gz to ./data/NoisyFashionMNIST/raw/t10k-labels-idx1-ubyte.gz\n"
          ]
        },
        {
          "output_type": "stream",
          "name": "stderr",
          "text": [
            "100%|██████████| 5.15k/5.15k [00:00<00:00, 4.36MB/s]"
          ]
        },
        {
          "output_type": "stream",
          "name": "stdout",
          "text": [
            "Extracting ./data/NoisyFashionMNIST/raw/t10k-labels-idx1-ubyte.gz to ./data/NoisyFashionMNIST/raw\n",
            "\n"
          ]
        },
        {
          "output_type": "stream",
          "name": "stderr",
          "text": [
            "\n"
          ]
        }
      ]
    },
    {
      "cell_type": "code",
      "source": [
        "target_model_noisy = torchvision.models.resnet18(pretrained=False)\n",
        "target_model_noisy.conv1 = nn.Conv2d(1, 64, kernel_size=(7, 7), stride=(2, 2), padding=(3, 3), bias=False)\n",
        "target_model_noisy.fc = nn.Linear(target_model_noisy.fc.in_features, num_classes)\n",
        "target_model_noisy = target_model_noisy.to(device)"
      ],
      "metadata": {
        "id": "ytNJ_J5sfGcV"
      },
      "execution_count": null,
      "outputs": []
    },
    {
      "cell_type": "code",
      "source": [
        "batch = next(iter(test_loader))\n",
        "images, _ = batch"
      ],
      "metadata": {
        "id": "qBsz04gTf3qu"
      },
      "execution_count": null,
      "outputs": []
    },
    {
      "cell_type": "code",
      "source": [
        "# Define loss and optimizer\n",
        "criterion = nn.CrossEntropyLoss()\n",
        "optimizer = optim.Adam(target_model_noisy.parameters(), lr=0.001)"
      ],
      "metadata": {
        "id": "wEEAHlwhf5hK"
      },
      "execution_count": null,
      "outputs": []
    },
    {
      "cell_type": "code",
      "source": [
        "# Retrain the target model with the noisy dataset\n",
        "num_epochs = 10\n",
        "for epoch in range(num_epochs):\n",
        "    for images, labels in train_loader_noisy:\n",
        "        images, labels = images.to(device), labels.to(device)\n",
        "        outputs = target_model_noisy(images)\n",
        "        loss = criterion(outputs, labels)\n",
        "        optimizer.zero_grad()\n",
        "        loss.backward()\n",
        "        optimizer.step()\n",
        "    print(f'Epoch [{epoch+1}/{num_epochs}], Loss: {loss.item():.4f}')"
      ],
      "metadata": {
        "id": "mG9ZakqGZizo"
      },
      "execution_count": null,
      "outputs": []
    },
    {
      "cell_type": "code",
      "source": [
        "# Save the retrained model\n",
        "torch.save(target_model_noisy.state_dict(), 'resnet18_fmnist_noisy.pth')"
      ],
      "metadata": {
        "id": "_3vBDpR4Zjxb"
      },
      "execution_count": null,
      "outputs": []
    }
  ],
  "metadata": {
    "language_info": {
      "name": "python"
    },
    "colab": {
      "provenance": [],
      "gpuType": "T4"
    },
    "accelerator": "GPU",
    "kernelspec": {
      "name": "python3",
      "display_name": "Python 3"
    }
  },
  "nbformat": 4,
  "nbformat_minor": 0
}